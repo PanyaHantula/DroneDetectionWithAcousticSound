{
 "cells": [
  {
   "cell_type": "code",
   "execution_count": 1,
   "id": "0668c28d",
   "metadata": {},
   "outputs": [
    {
     "name": "stderr",
     "output_type": "stream",
     "text": [
      "/Users/panya/Library/Python/3.9/lib/python/site-packages/tqdm/auto.py:21: TqdmWarning: IProgress not found. Please update jupyter and ipywidgets. See https://ipywidgets.readthedocs.io/en/stable/user_install.html\n",
      "  from .autonotebook import tqdm as notebook_tqdm\n"
     ]
    }
   ],
   "source": [
    "import os\n",
    "import librosa # type: ignore\n",
    "import numpy as np # type: ignore\n",
    "import matplotlib.pyplot as plt # type: ignore\n",
    "import scipy.signal as signal\n",
    "import scipy.signal as spy\n",
    "from scipy.signal import firwin, freqz\n",
    "import noisereduce as nr # type: ignore"
   ]
  },
  {
   "cell_type": "code",
   "execution_count": 2,
   "id": "2d28a9ed",
   "metadata": {},
   "outputs": [],
   "source": [
    "def plotSpectrogram (data,sample_rate,title):\n",
    "    # convert to spectrogram \n",
    "    spectrogram = librosa.feature.melspectrogram(y=data, sr=sample_rate)\n",
    "    spectrogram = librosa.power_to_db(spectrogram, ref=np.max)\n",
    "\n",
    "    plt.figure(figsize=(8,4))\n",
    "    plt.title(title)\n",
    "    librosa.display.specshow(spectrogram, x_axis='time', y_axis='hz',cmap='viridis')  #cmap = 'viridis', 'plasma', 'inferno', 'magma', 'cividis'\n",
    "    plt.colorbar(format='%+2.0f dB')\n",
    "    plt.xlabel('Time')\n",
    "    plt.ylabel('Frequency')\n"
   ]
  },
  {
   "cell_type": "code",
   "execution_count": null,
   "id": "dca528cf",
   "metadata": {},
   "outputs": [],
   "source": [
    "#Example to show spectrogram data \n",
    "audio_path = \"./dataset/High20m_50m_#3.wav\"\n",
    "#audio_path = \"/Users/panya/Project-ALL/DroneClassification/AcousticDroneDetection/dataset/No_Drone/เสียงธรรมชาติ(สายสั้น)-ex8.wav\"\n",
    "audio_original, sample_rate = librosa.load(audio_path, duration=20)  # Load audio and limit to 3 seconds\n",
    "\n",
    "plotSpectrogram(audio_original, sample_rate,\"Original File\")"
   ]
  },
  {
   "cell_type": "code",
   "execution_count": null,
   "id": "2d64a5ac",
   "metadata": {},
   "outputs": [],
   "source": [
    "lowcut = 250.0   \n",
    "highcut = 5000.0 \n",
    "order=5\n",
    "fs=sample_rate\n",
    "    \n",
    "nyquist = 1 * fs\n",
    "low = lowcut / nyquist\n",
    "high = highcut / nyquist\n",
    "b, a = signal.butter(order, [low, high], btype='band')\n",
    "\n",
    "# Compute the frequency response of the filter\n",
    "w, h = freqz(b, a, worN=2000)\n",
    "\n",
    "# Plot the frequency response\n",
    "fig, ax1 = plt.subplots()\n",
    "ax1.set_title('Digital filter frequency response')\n",
    "ax1.plot(0.5*fs*w/np.pi, 20*np.log10(np.abs(h)), 'b')\n",
    "ax1.set_ylabel('Amplitude [dB]', color='b')\n",
    "ax1.set_xlabel('Frequency [Hz]')\n",
    "ax1.set_ylim([-80, 5])\n",
    "ax1.set_xlim([0, 0.5*fs])\n",
    "ax1.grid()\n",
    "\n",
    "plt.show()"
   ]
  },
  {
   "cell_type": "code",
   "execution_count": 7,
   "id": "8ba5d3e2",
   "metadata": {},
   "outputs": [],
   "source": [
    "\n",
    "\n",
    "def bandpass_filter(data, fs):\n",
    "    \n",
    "    nyquist = 1 * fs\n",
    "    low = lowcut / nyquist\n",
    "    high = highcut / nyquist\n",
    "    b, a = signal.butter(order, [low, high], btype='band')\n",
    "    y = signal.lfilter(b, a, data)\n",
    "    \n",
    "    return y"
   ]
  },
  {
   "cell_type": "code",
   "execution_count": null,
   "id": "d194bfb6",
   "metadata": {},
   "outputs": [],
   "source": [
    "# band pass filter \n",
    "#audio_BPF = butter_bandpass_filter(audio_normalize,lowcut,highcut,sample_rate,order=7)\n",
    "audio_BPF = bandpass_filter(audio_original,sample_rate)\n",
    "\n",
    "plotSpectrogram(audio_BPF, sample_rate,\"Original File\")"
   ]
  },
  {
   "cell_type": "code",
   "execution_count": null,
   "id": "9bad7642",
   "metadata": {},
   "outputs": [],
   "source": [
    "\n",
    "# Noise reduce\n",
    "Audio_Reduced_Noise = nr.reduce_noise(y=audio_BPF, sr=sample_rate,prop_decrease = 1)\n",
    "plotSpectrogram(audio_BPF, sample_rate,\"Original File\")\n"
   ]
  }
 ],
 "metadata": {
  "kernelspec": {
   "display_name": "Python 3",
   "language": "python",
   "name": "python3"
  },
  "language_info": {
   "codemirror_mode": {
    "name": "ipython",
    "version": 3
   },
   "file_extension": ".py",
   "mimetype": "text/x-python",
   "name": "python",
   "nbconvert_exporter": "python",
   "pygments_lexer": "ipython3",
   "version": "3.9.6"
  }
 },
 "nbformat": 4,
 "nbformat_minor": 5
}
